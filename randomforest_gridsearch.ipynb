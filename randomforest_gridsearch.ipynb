{
  "nbformat": 4,
  "nbformat_minor": 0,
  "metadata": {
    "colab": {
      "name": "pruebas_randomforest_gridsearch",
      "provenance": [],
      "collapsed_sections": [],
      "machine_shape": "hm",
      "include_colab_link": true
    },
    "kernelspec": {
      "name": "python3",
      "display_name": "Python 3"
    },
    "accelerator": "GPU"
  },
  "cells": [
    {
      "cell_type": "markdown",
      "metadata": {
        "id": "view-in-github",
        "colab_type": "text"
      },
      "source": [
        "<a href=\"https://colab.research.google.com/github/cprietosegura/Breast-Cancer-Detector-Model/blob/master/randomforest_gridsearch.ipynb\" target=\"_parent\"><img src=\"https://colab.research.google.com/assets/colab-badge.svg\" alt=\"Open In Colab\"/></a>"
      ]
    },
    {
      "cell_type": "code",
      "metadata": {
        "id": "2oo3Zlio8Yvn",
        "colab_type": "code",
        "outputId": "f28fc84a-b1db-429c-d5dc-3c2ab40cc47b",
        "colab": {
          "base_uri": "https://localhost:8080/",
          "height": 124
        }
      },
      "source": [
        "from google.colab import drive\n",
        "drive.mount('/content/drive/')"
      ],
      "execution_count": 0,
      "outputs": [
        {
          "output_type": "stream",
          "text": [
            "Go to this URL in a browser: https://accounts.google.com/o/oauth2/auth?client_id=947318989803-6bn6qk8qdgf4n4g3pfee6491hc0brc4i.apps.googleusercontent.com&redirect_uri=urn%3aietf%3awg%3aoauth%3a2.0%3aoob&response_type=code&scope=email%20https%3a%2f%2fwww.googleapis.com%2fauth%2fdocs.test%20https%3a%2f%2fwww.googleapis.com%2fauth%2fdrive%20https%3a%2f%2fwww.googleapis.com%2fauth%2fdrive.photos.readonly%20https%3a%2f%2fwww.googleapis.com%2fauth%2fpeopleapi.readonly\n",
            "\n",
            "Enter your authorization code:\n",
            "··········\n",
            "Mounted at /content/drive/\n"
          ],
          "name": "stdout"
        }
      ]
    },
    {
      "cell_type": "code",
      "metadata": {
        "id": "CzZQ27X1rjBP",
        "colab_type": "code",
        "colab": {}
      },
      "source": [
        "from sklearn.preprocessing import LabelEncoder\n",
        "from sklearn.preprocessing import MinMaxScaler\n",
        "import numpy as np\n",
        "import pandas as pd\n",
        "import cv2\n",
        "import os\n",
        "import h5py\n",
        "import glob\n",
        "import matplotlib.pyplot as plt\n",
        "from sklearn.model_selection import train_test_split, cross_val_score\n",
        "from sklearn.ensemble import RandomForestClassifier\n",
        "import pickle"
      ],
      "execution_count": 0,
      "outputs": []
    },
    {
      "cell_type": "code",
      "metadata": {
        "id": "caSsI9Wnrbjg",
        "colab_type": "code",
        "colab": {}
      },
      "source": [
        "def importDfPickle(path):\n",
        "    with open(path, 'rb') as f:\n",
        "        df = pickle.load(f)\n",
        "    return df"
      ],
      "execution_count": 0,
      "outputs": []
    },
    {
      "cell_type": "code",
      "metadata": {
        "id": "e2bgsvi4rcvq",
        "colab_type": "code",
        "colab": {}
      },
      "source": [
        "df=importDfPickle(\"/content/drive/My Drive/IRONHACK/breast_cancer_2000m.pkl\") "
      ],
      "execution_count": 0,
      "outputs": []
    },
    {
      "cell_type": "code",
      "metadata": {
        "id": "bY9UoKhNrhEP",
        "colab_type": "code",
        "outputId": "be0a7ae5-a551-4b75-a6f9-8b6c78203be2",
        "colab": {
          "base_uri": "https://localhost:8080/",
          "height": 206
        }
      },
      "source": [
        "df.head()"
      ],
      "execution_count": 0,
      "outputs": [
        {
          "output_type": "execute_result",
          "data": {
            "text/html": [
              "<div>\n",
              "<style scoped>\n",
              "    .dataframe tbody tr th:only-of-type {\n",
              "        vertical-align: middle;\n",
              "    }\n",
              "\n",
              "    .dataframe tbody tr th {\n",
              "        vertical-align: top;\n",
              "    }\n",
              "\n",
              "    .dataframe thead th {\n",
              "        text-align: right;\n",
              "    }\n",
              "</style>\n",
              "<table border=\"1\" class=\"dataframe\">\n",
              "  <thead>\n",
              "    <tr style=\"text-align: right;\">\n",
              "      <th></th>\n",
              "      <th>label</th>\n",
              "      <th>image</th>\n",
              "      <th>path</th>\n",
              "    </tr>\n",
              "  </thead>\n",
              "  <tbody>\n",
              "    <tr>\n",
              "      <th>0</th>\n",
              "      <td>1</td>\n",
              "      <td>[[[222, 212, 239], [230, 224, 245], [235, 231,...</td>\n",
              "      <td>images/1/12867_idx5_x1851_y1351_class1.png</td>\n",
              "    </tr>\n",
              "    <tr>\n",
              "      <th>1</th>\n",
              "      <td>1</td>\n",
              "      <td>[[[194, 170, 222], [188, 167, 219], [192, 171,...</td>\n",
              "      <td>images/1/16167_idx5_x2201_y1701_class1.png</td>\n",
              "    </tr>\n",
              "    <tr>\n",
              "      <th>2</th>\n",
              "      <td>1</td>\n",
              "      <td>[[[160, 117, 172], [159, 127, 207], [158, 116,...</td>\n",
              "      <td>images/1/12821_idx5_x1651_y1551_class1.png</td>\n",
              "    </tr>\n",
              "    <tr>\n",
              "      <th>3</th>\n",
              "      <td>1</td>\n",
              "      <td>[[[220, 204, 226], [229, 223, 241], [223, 205,...</td>\n",
              "      <td>images/1/13691_idx5_x3651_y1901_class1.png</td>\n",
              "    </tr>\n",
              "    <tr>\n",
              "      <th>4</th>\n",
              "      <td>1</td>\n",
              "      <td>[[[169, 123, 176], [132, 86, 134], [136, 83, 1...</td>\n",
              "      <td>images/1/14154_idx5_x1801_y1501_class1.png</td>\n",
              "    </tr>\n",
              "  </tbody>\n",
              "</table>\n",
              "</div>"
            ],
            "text/plain": [
              "   label  ...                                        path\n",
              "0      1  ...  images/1/12867_idx5_x1851_y1351_class1.png\n",
              "1      1  ...  images/1/16167_idx5_x2201_y1701_class1.png\n",
              "2      1  ...  images/1/12821_idx5_x1651_y1551_class1.png\n",
              "3      1  ...  images/1/13691_idx5_x3651_y1901_class1.png\n",
              "4      1  ...  images/1/14154_idx5_x1801_y1501_class1.png\n",
              "\n",
              "[5 rows x 3 columns]"
            ]
          },
          "metadata": {
            "tags": []
          },
          "execution_count": 5
        }
      ]
    },
    {
      "cell_type": "code",
      "metadata": {
        "id": "Qu45aBsGr1Ea",
        "colab_type": "code",
        "colab": {}
      },
      "source": [
        "from scipy.fftpack import fft\n",
        "\n",
        "def fftransform(array):\n",
        "    '''fft to all the array images (column in this case)'''\n",
        "    return np.abs(fft(array,512))\n"
      ],
      "execution_count": 0,
      "outputs": []
    },
    {
      "cell_type": "code",
      "metadata": {
        "id": "sszXWQprr5Ox",
        "colab_type": "code",
        "colab": {}
      },
      "source": [
        "df['image']=df['image'].apply(lambda x: fftransform(x))"
      ],
      "execution_count": 0,
      "outputs": []
    },
    {
      "cell_type": "code",
      "metadata": {
        "id": "lRf5UvVtr-qQ",
        "colab_type": "code",
        "outputId": "085f2c2c-38dc-4579-d810-9dfc9c271fa2",
        "colab": {
          "base_uri": "https://localhost:8080/",
          "height": 225
        }
      },
      "source": [
        "#df['fft']"
      ],
      "execution_count": 0,
      "outputs": [
        {
          "output_type": "execute_result",
          "data": {
            "text/plain": [
              "0       [[[673.0, 672.9653198828695, 672.8612847595729...\n",
              "1       [[[586.0, 585.9687767068692, 585.8751115485961...\n",
              "2       [[[449.0, 448.9750251601068, 448.9001044067638...\n",
              "3       [[[650.0, 649.9664211906766, 649.865689820253,...\n",
              "4       [[[468.0, 467.9740300184274, 467.8961239863824...\n",
              "                              ...                        \n",
              "1995    [[[621.0, 620.9671013738873, 620.8684104651053...\n",
              "1996    [[[650.0, 649.9673960121944, 649.8695889588355...\n",
              "1997    [[[663.0, 662.9659036755203, 662.8636198391363...\n",
              "1998    [[[706.0, 705.9640091856078, 705.8560421627883...\n",
              "1999    [[[432.0, 431.97557847175136, 431.902317576249...\n",
              "Name: fft, Length: 2000, dtype: object"
            ]
          },
          "metadata": {
            "tags": []
          },
          "execution_count": 11
        }
      ]
    },
    {
      "cell_type": "code",
      "metadata": {
        "id": "1DWJoT1xtGDT",
        "colab_type": "code",
        "outputId": "d1ce5023-6b35-4258-ce4f-c1e480d9ea57",
        "colab": {
          "base_uri": "https://localhost:8080/",
          "height": 206
        }
      },
      "source": [
        "df.head()"
      ],
      "execution_count": 0,
      "outputs": [
        {
          "output_type": "execute_result",
          "data": {
            "text/html": [
              "<div>\n",
              "<style scoped>\n",
              "    .dataframe tbody tr th:only-of-type {\n",
              "        vertical-align: middle;\n",
              "    }\n",
              "\n",
              "    .dataframe tbody tr th {\n",
              "        vertical-align: top;\n",
              "    }\n",
              "\n",
              "    .dataframe thead th {\n",
              "        text-align: right;\n",
              "    }\n",
              "</style>\n",
              "<table border=\"1\" class=\"dataframe\">\n",
              "  <thead>\n",
              "    <tr style=\"text-align: right;\">\n",
              "      <th></th>\n",
              "      <th>label</th>\n",
              "      <th>image</th>\n",
              "      <th>path</th>\n",
              "    </tr>\n",
              "  </thead>\n",
              "  <tbody>\n",
              "    <tr>\n",
              "      <th>0</th>\n",
              "      <td>1</td>\n",
              "      <td>[[[673.0, 672.9653198828695, 672.8612847595729...</td>\n",
              "      <td>images/1/12867_idx5_x1851_y1351_class1.png</td>\n",
              "    </tr>\n",
              "    <tr>\n",
              "      <th>1</th>\n",
              "      <td>1</td>\n",
              "      <td>[[[586.0, 585.9687767068692, 585.8751115485961...</td>\n",
              "      <td>images/1/16167_idx5_x2201_y1701_class1.png</td>\n",
              "    </tr>\n",
              "    <tr>\n",
              "      <th>2</th>\n",
              "      <td>1</td>\n",
              "      <td>[[[449.0, 448.9750251601068, 448.9001044067638...</td>\n",
              "      <td>images/1/12821_idx5_x1651_y1551_class1.png</td>\n",
              "    </tr>\n",
              "    <tr>\n",
              "      <th>3</th>\n",
              "      <td>1</td>\n",
              "      <td>[[[650.0, 649.9664211906766, 649.865689820253,...</td>\n",
              "      <td>images/1/13691_idx5_x3651_y1901_class1.png</td>\n",
              "    </tr>\n",
              "    <tr>\n",
              "      <th>4</th>\n",
              "      <td>1</td>\n",
              "      <td>[[[468.0, 467.9740300184274, 467.8961239863824...</td>\n",
              "      <td>images/1/14154_idx5_x1801_y1501_class1.png</td>\n",
              "    </tr>\n",
              "  </tbody>\n",
              "</table>\n",
              "</div>"
            ],
            "text/plain": [
              "   label  ...                                        path\n",
              "0      1  ...  images/1/12867_idx5_x1851_y1351_class1.png\n",
              "1      1  ...  images/1/16167_idx5_x2201_y1701_class1.png\n",
              "2      1  ...  images/1/12821_idx5_x1651_y1551_class1.png\n",
              "3      1  ...  images/1/13691_idx5_x3651_y1901_class1.png\n",
              "4      1  ...  images/1/14154_idx5_x1801_y1501_class1.png\n",
              "\n",
              "[5 rows x 3 columns]"
            ]
          },
          "metadata": {
            "tags": []
          },
          "execution_count": 8
        }
      ]
    },
    {
      "cell_type": "code",
      "metadata": {
        "id": "cvQT5J9rtQFF",
        "colab_type": "code",
        "colab": {}
      },
      "source": [
        ""
      ],
      "execution_count": 0,
      "outputs": []
    },
    {
      "cell_type": "code",
      "metadata": {
        "id": "j_1kLuDsttKg",
        "colab_type": "code",
        "colab": {}
      },
      "source": [
        "X=np.asarray(list(df['image']))\n",
        "X = X.reshape(X.shape[0], -1)\n",
        "y=np.asarray(df['label'])"
      ],
      "execution_count": 0,
      "outputs": []
    },
    {
      "cell_type": "code",
      "metadata": {
        "id": "e1BkaaWNlub5",
        "colab_type": "code",
        "colab": {}
      },
      "source": [
        "from sklearn.model_selection import train_test_split\n",
        "X_train, X_test, y_train, y_test = train_test_split(X, y, test_size=0.2, random_state=42)"
      ],
      "execution_count": 0,
      "outputs": []
    },
    {
      "cell_type": "code",
      "metadata": {
        "id": "3dSHFKuRlwGx",
        "colab_type": "code",
        "colab": {}
      },
      "source": [
        "# create the model - Random Forests\n",
        "rfc  = RandomForestClassifier(random_state=42)"
      ],
      "execution_count": 0,
      "outputs": []
    },
    {
      "cell_type": "code",
      "metadata": {
        "id": "FSkku4DulzKb",
        "colab_type": "code",
        "colab": {}
      },
      "source": [
        "param_grid = { \n",
        "    'n_estimators': [250,500],\n",
        "    'max_features': ['auto', 'sqrt'],\n",
        "    'max_depth' : [7,8],\n",
        "    'criterion' :['gini', 'entropy']}\n"
      ],
      "execution_count": 0,
      "outputs": []
    },
    {
      "cell_type": "code",
      "metadata": {
        "id": "PLasqruPl2A2",
        "colab_type": "code",
        "outputId": "6d99eb53-197a-4721-a9a2-321c1987ae81",
        "colab": {
          "base_uri": "https://localhost:8080/",
          "height": 347
        }
      },
      "source": [
        "from sklearn.model_selection import GridSearchCV\n",
        "CV_rfc = GridSearchCV(estimator=rfc, param_grid=param_grid, cv= 5)\n",
        "CV_rfc.fit(X_train, y_train)"
      ],
      "execution_count": 0,
      "outputs": [
        {
          "output_type": "execute_result",
          "data": {
            "text/plain": [
              "GridSearchCV(cv=5, error_score='raise-deprecating',\n",
              "             estimator=RandomForestClassifier(bootstrap=True, class_weight=None,\n",
              "                                              criterion='gini', max_depth=None,\n",
              "                                              max_features='auto',\n",
              "                                              max_leaf_nodes=None,\n",
              "                                              min_impurity_decrease=0.0,\n",
              "                                              min_impurity_split=None,\n",
              "                                              min_samples_leaf=1,\n",
              "                                              min_samples_split=2,\n",
              "                                              min_weight_fraction_leaf=0.0,\n",
              "                                              n_estimators='warn', n_jobs=None,\n",
              "                                              oob_score=False, random_state=42,\n",
              "                                              verbose=0, warm_start=False),\n",
              "             iid='warn', n_jobs=None,\n",
              "             param_grid={'criterion': ['gini', 'entropy'], 'max_depth': [7, 8],\n",
              "                         'max_features': ['auto', 'sqrt'],\n",
              "                         'n_estimators': [250, 500]},\n",
              "             pre_dispatch='2*n_jobs', refit=True, return_train_score=False,\n",
              "             scoring=None, verbose=0)"
            ]
          },
          "metadata": {
            "tags": []
          },
          "execution_count": 11
        }
      ]
    },
    {
      "cell_type": "code",
      "metadata": {
        "id": "IuDXlieNl5Yl",
        "colab_type": "code",
        "outputId": "acc9c042-1837-4902-c630-61a70a0233db",
        "colab": {
          "base_uri": "https://localhost:8080/",
          "height": 86
        }
      },
      "source": [
        "CV_rfc.best_params_"
      ],
      "execution_count": 0,
      "outputs": [
        {
          "output_type": "execute_result",
          "data": {
            "text/plain": [
              "{'criterion': 'entropy',\n",
              " 'max_depth': 8,\n",
              " 'max_features': 'auto',\n",
              " 'n_estimators': 500}"
            ]
          },
          "metadata": {
            "tags": []
          },
          "execution_count": 12
        }
      ]
    },
    {
      "cell_type": "code",
      "metadata": {
        "id": "1Uu19-rWrGji",
        "colab_type": "code",
        "colab": {}
      },
      "source": [
        "rfc_best=RandomForestClassifier(random_state=42, max_features='auto', n_estimators= 500, max_depth=8, criterion='entropy')"
      ],
      "execution_count": 0,
      "outputs": []
    },
    {
      "cell_type": "code",
      "metadata": {
        "id": "sbI5sunRrYAJ",
        "colab_type": "code",
        "colab": {}
      },
      "source": [
        "rfc_best_model=rfc_best.fit(X_train, y_train)"
      ],
      "execution_count": 0,
      "outputs": []
    },
    {
      "cell_type": "code",
      "metadata": {
        "id": "kJmrl0A2ruO-",
        "colab_type": "code",
        "colab": {}
      },
      "source": [
        "rfc_pred = rfc_best.predict(X_test)"
      ],
      "execution_count": 0,
      "outputs": []
    },
    {
      "cell_type": "code",
      "metadata": {
        "id": "eUwoPU9-sIed",
        "colab_type": "code",
        "outputId": "aee52d67-9e3a-45bf-87eb-def1baeb501f",
        "colab": {
          "base_uri": "https://localhost:8080/",
          "height": 86
        }
      },
      "source": [
        "from sklearn.metrics import mean_squared_error, mean_absolute_error, r2_score,accuracy_score\n",
        "\n",
        "print(\"Mean Absolute Error is :\", mean_absolute_error(y_test, rfc_pred))\n",
        "print('Mean Squared Error is :', mean_squared_error(y_test, rfc_pred))\n",
        "print('The R2 score value is :', r2_score(y_test, rfc_pred)*100)\n",
        "print(\"Accuracy:\", accuracy_score(y_test,rfc_pred))"
      ],
      "execution_count": 0,
      "outputs": [
        {
          "output_type": "stream",
          "text": [
            "Mean Absolute Error is : 0.19\n",
            "Mean Squared Error is : 0.19\n",
            "The R2 score value is : 23.998099952498798\n",
            "Accuracy: 0.81\n"
          ],
          "name": "stdout"
        }
      ]
    },
    {
      "cell_type": "code",
      "metadata": {
        "id": "HBv6n7HBsPwQ",
        "colab_type": "code",
        "outputId": "cc601b0e-e768-4afa-bf96-50c6ca8eb0d7",
        "colab": {
          "base_uri": "https://localhost:8080/",
          "height": 472
        }
      },
      "source": [
        "from sklearn.metrics import roc_auc_score\n",
        "from sklearn.metrics import roc_curve\n",
        "import matplotlib.pyplot as plt\n",
        "y_score = rfc_best.predict_proba(X_test)\n",
        "\n",
        "#print(y_score)\n",
        "roc = roc_curve(y_test, y_score[:,1])\n",
        "display(pd.DataFrame({\n",
        "    \"gt\":y_test,\n",
        "    \"predicted\":rfc_pred,\n",
        "    \"proba Maligno\":y_score[:,1],\n",
        "    \"proba Beningno\":y_score[:,0]\n",
        "}).head())\n",
        "\n",
        "plt.plot(roc[0],roc[1])\n",
        "plt.legend([\"AUC: {}\".format(round(roc_auc_score(y_test, y_score[:,1]),2))])"
      ],
      "execution_count": 0,
      "outputs": [
        {
          "output_type": "display_data",
          "data": {
            "text/html": [
              "<div>\n",
              "<style scoped>\n",
              "    .dataframe tbody tr th:only-of-type {\n",
              "        vertical-align: middle;\n",
              "    }\n",
              "\n",
              "    .dataframe tbody tr th {\n",
              "        vertical-align: top;\n",
              "    }\n",
              "\n",
              "    .dataframe thead th {\n",
              "        text-align: right;\n",
              "    }\n",
              "</style>\n",
              "<table border=\"1\" class=\"dataframe\">\n",
              "  <thead>\n",
              "    <tr style=\"text-align: right;\">\n",
              "      <th></th>\n",
              "      <th>gt</th>\n",
              "      <th>predicted</th>\n",
              "      <th>proba Maligno</th>\n",
              "      <th>proba Beningno</th>\n",
              "    </tr>\n",
              "  </thead>\n",
              "  <tbody>\n",
              "    <tr>\n",
              "      <th>0</th>\n",
              "      <td>0</td>\n",
              "      <td>0</td>\n",
              "      <td>0.110962</td>\n",
              "      <td>0.889038</td>\n",
              "    </tr>\n",
              "    <tr>\n",
              "      <th>1</th>\n",
              "      <td>1</td>\n",
              "      <td>1</td>\n",
              "      <td>0.732100</td>\n",
              "      <td>0.267900</td>\n",
              "    </tr>\n",
              "    <tr>\n",
              "      <th>2</th>\n",
              "      <td>0</td>\n",
              "      <td>0</td>\n",
              "      <td>0.121577</td>\n",
              "      <td>0.878423</td>\n",
              "    </tr>\n",
              "    <tr>\n",
              "      <th>3</th>\n",
              "      <td>1</td>\n",
              "      <td>1</td>\n",
              "      <td>0.630631</td>\n",
              "      <td>0.369369</td>\n",
              "    </tr>\n",
              "    <tr>\n",
              "      <th>4</th>\n",
              "      <td>0</td>\n",
              "      <td>0</td>\n",
              "      <td>0.045928</td>\n",
              "      <td>0.954072</td>\n",
              "    </tr>\n",
              "  </tbody>\n",
              "</table>\n",
              "</div>"
            ],
            "text/plain": [
              "   gt  predicted  proba Maligno  proba Beningno\n",
              "0   0          0       0.110962        0.889038\n",
              "1   1          1       0.732100        0.267900\n",
              "2   0          0       0.121577        0.878423\n",
              "3   1          1       0.630631        0.369369\n",
              "4   0          0       0.045928        0.954072"
            ]
          },
          "metadata": {
            "tags": []
          }
        },
        {
          "output_type": "execute_result",
          "data": {
            "text/plain": [
              "<matplotlib.legend.Legend at 0x7fbe99486208>"
            ]
          },
          "metadata": {
            "tags": []
          },
          "execution_count": 17
        },
        {
          "output_type": "display_data",
          "data": {
            "image/png": "[encoded data removed]",
            "text/plain": [
              "<Figure size 432x288 with 1 Axes>"
            ]
          },
          "metadata": {
            "tags": []
          }
        }
      ]
    },
    {
      "cell_type": "code",
      "metadata": {
        "id": "8JyUT6AKskKd",
        "colab_type": "code",
        "outputId": "6a5b5033-4046-4d6b-80b4-f5db4ff31984",
        "colab": {
          "base_uri": "https://localhost:8080/",
          "height": 143
        }
      },
      "source": [
        "pd.crosstab(y_test, rfc_pred, rownames=['Actual Result'], colnames=['Predicted Result'])"
      ],
      "execution_count": 0,
      "outputs": [
        {
          "output_type": "execute_result",
          "data": {
            "text/html": [
              "<div>\n",
              "<style scoped>\n",
              "    .dataframe tbody tr th:only-of-type {\n",
              "        vertical-align: middle;\n",
              "    }\n",
              "\n",
              "    .dataframe tbody tr th {\n",
              "        vertical-align: top;\n",
              "    }\n",
              "\n",
              "    .dataframe thead th {\n",
              "        text-align: right;\n",
              "    }\n",
              "</style>\n",
              "<table border=\"1\" class=\"dataframe\">\n",
              "  <thead>\n",
              "    <tr style=\"text-align: right;\">\n",
              "      <th>Predicted Result</th>\n",
              "      <th>0</th>\n",
              "      <th>1</th>\n",
              "    </tr>\n",
              "    <tr>\n",
              "      <th>Actual Result</th>\n",
              "      <th></th>\n",
              "      <th></th>\n",
              "    </tr>\n",
              "  </thead>\n",
              "  <tbody>\n",
              "    <tr>\n",
              "      <th>0</th>\n",
              "      <td>166</td>\n",
              "      <td>35</td>\n",
              "    </tr>\n",
              "    <tr>\n",
              "      <th>1</th>\n",
              "      <td>41</td>\n",
              "      <td>158</td>\n",
              "    </tr>\n",
              "  </tbody>\n",
              "</table>\n",
              "</div>"
            ],
            "text/plain": [
              "Predicted Result    0    1\n",
              "Actual Result             \n",
              "0                 166   35\n",
              "1                  41  158"
            ]
          },
          "metadata": {
            "tags": []
          },
          "execution_count": 18
        }
      ]
    },
    {
      "cell_type": "code",
      "metadata": {
        "id": "yqXA9gtUsyaj",
        "colab_type": "code",
        "colab": {}
      },
      "source": [
        "import pickle\n",
        "def saveTrainedModel(model,modelname):\n",
        "    filename = '/content/drive/My Drive/IRONHACK/{}.sav'.format(modelname)\n",
        "    pickle.dump(model, open(filename, 'wb')) "
      ],
      "execution_count": 0,
      "outputs": []
    },
    {
      "cell_type": "code",
      "metadata": {
        "id": "Sv3Nz_3dtDPA",
        "colab_type": "code",
        "colab": {}
      },
      "source": [
        "modelname='rfc_model_acu81_auc90'\n",
        "saveTrainedModel(rfc_best_model,modelname)"
      ],
      "execution_count": 0,
      "outputs": []
    },
    {
      "cell_type": "code",
      "metadata": {
        "id": "CALrAolOtVPz",
        "colab_type": "code",
        "colab": {}
      },
      "source": [
        ""
      ],
      "execution_count": 0,
      "outputs": []
    }
  ]
}